{
 "cells": [
  {
   "cell_type": "code",
   "execution_count": 1,
   "metadata": {},
   "outputs": [],
   "source": [
    "import collections\n",
    "import datetime\n",
    "import fluidsynth\n",
    "import glob\n",
    "import numpy as np\n",
    "import pathlib\n",
    "import pandas as pd\n",
    "import pretty_midi\n",
    "import seaborn as sns\n",
    "import tensorflow as tf\n",
    "\n",
    "from IPython import display\n",
    "from matplotlib import pyplot as plt\n",
    "from typing import Dict, List, Optional, Sequence, Tuple"
   ]
  },
  {
   "cell_type": "code",
   "execution_count": 2,
   "metadata": {},
   "outputs": [],
   "source": [
    "seed = 42\n",
    "tf.random.set_seed(seed)\n",
    "np.random.seed(seed)\n",
    "\n",
    "# Sampling rate for audio playback\n",
    "_SAMPLING_RATE = 16000"
   ]
  },
  {
   "cell_type": "code",
   "execution_count": 3,
   "metadata": {},
   "outputs": [],
   "source": [
    "data_dir = pathlib.Path('data/maestro-v2.0.0')\n",
    "if not data_dir.exists():\n",
    "  tf.keras.utils.get_file(\n",
    "      'maestro-v2.0.0-midi.zip',\n",
    "      origin='https://storage.googleapis.com/magentadata/datasets/maestro/v2.0.0/maestro-v2.0.0-midi.zip',\n",
    "      extract=True,\n",
    "      cache_dir='.', cache_subdir='data',\n",
    "  )"
   ]
  },
  {
   "cell_type": "code",
   "execution_count": 4,
   "metadata": {},
   "outputs": [
    {
     "name": "stdout",
     "output_type": "stream",
     "text": [
      "Number of files: 1282\n"
     ]
    }
   ],
   "source": [
    "filenames = glob.glob(str(data_dir/'**/*.mid*'))\n",
    "print('Number of files:', len(filenames))"
   ]
  },
  {
   "cell_type": "code",
   "execution_count": 5,
   "metadata": {},
   "outputs": [
    {
     "name": "stdout",
     "output_type": "stream",
     "text": [
      "data\\maestro-v2.0.0\\2004\\MIDI-Unprocessed_SMF_02_R1_2004_01-05_ORIG_MID--AUDIO_02_R1_2004_06_Track06_wav.midi\n"
     ]
    }
   ],
   "source": [
    "sample_file = filenames[1]\n",
    "print(sample_file)"
   ]
  },
  {
   "cell_type": "code",
   "execution_count": 6,
   "metadata": {},
   "outputs": [],
   "source": [
    "pm = pretty_midi.PrettyMIDI(sample_file)"
   ]
  },
  {
   "cell_type": "code",
   "execution_count": 7,
   "metadata": {},
   "outputs": [],
   "source": [
    "def display_audio(pm: pretty_midi.PrettyMIDI, seconds=30):\n",
    "  waveform = pm.fluidsynth(fs=_SAMPLING_RATE)\n",
    "  # Take a sample of the generated waveform to mitigate kernel resets\n",
    "  waveform_short = waveform[:seconds*_SAMPLING_RATE]\n",
    "  return display.Audio(waveform_short, rate=_SAMPLING_RATE)"
   ]
  },
  {
   "cell_type": "code",
   "execution_count": 8,
   "metadata": {},
   "outputs": [
    {
     "name": "stderr",
     "output_type": "stream",
     "text": [
      "d:\\The God Folder\\Programs\\Python\\lib\\site-packages\\pretty_midi\\instrument.py:167: SyntaxWarning: \"is not\" with a literal. Did you mean \"!=\"?\n",
      "  if bend_int is not 0:\n",
      "d:\\The God Folder\\Programs\\Python\\lib\\site-packages\\pretty_midi\\instrument.py:176: SyntaxWarning: \"is not\" with a literal. Did you mean \"!=\"?\n",
      "  if bend_int is not 0:\n",
      "d:\\The God Folder\\Programs\\Python\\lib\\site-packages\\pretty_midi\\instrument.py:167: SyntaxWarning: \"is not\" with a literal. Did you mean \"!=\"?\n",
      "  if bend_int is not 0:\n",
      "d:\\The God Folder\\Programs\\Python\\lib\\site-packages\\pretty_midi\\instrument.py:176: SyntaxWarning: \"is not\" with a literal. Did you mean \"!=\"?\n",
      "  if bend_int is not 0:\n"
     ]
    },
    {
     "ename": "AttributeError",
     "evalue": "module 'fluidsynth' has no attribute 'Synth'",
     "output_type": "error",
     "traceback": [
      "\u001b[1;31m---------------------------------------------------------------------------\u001b[0m",
      "\u001b[1;31mAttributeError\u001b[0m                            Traceback (most recent call last)",
      "Cell \u001b[1;32mIn [8], line 1\u001b[0m\n\u001b[1;32m----> 1\u001b[0m display_audio(pm)\n",
      "Cell \u001b[1;32mIn [7], line 2\u001b[0m, in \u001b[0;36mdisplay_audio\u001b[1;34m(pm, seconds)\u001b[0m\n\u001b[0;32m      1\u001b[0m \u001b[39mdef\u001b[39;00m \u001b[39mdisplay_audio\u001b[39m(pm: pretty_midi\u001b[39m.\u001b[39mPrettyMIDI, seconds\u001b[39m=\u001b[39m\u001b[39m30\u001b[39m):\n\u001b[1;32m----> 2\u001b[0m   waveform \u001b[39m=\u001b[39m pm\u001b[39m.\u001b[39;49mfluidsynth(fs\u001b[39m=\u001b[39;49m_SAMPLING_RATE)\n\u001b[0;32m      3\u001b[0m   \u001b[39m# Take a sample of the generated waveform to mitigate kernel resets\u001b[39;00m\n\u001b[0;32m      4\u001b[0m   waveform_short \u001b[39m=\u001b[39m waveform[:seconds\u001b[39m*\u001b[39m_SAMPLING_RATE]\n",
      "File \u001b[1;32md:\\The God Folder\\Programs\\Python\\lib\\site-packages\\pretty_midi\\pretty_midi.py:945\u001b[0m, in \u001b[0;36mPrettyMIDI.fluidsynth\u001b[1;34m(self, fs, sf2_path)\u001b[0m\n\u001b[0;32m    943\u001b[0m     \u001b[39mreturn\u001b[39;00m np\u001b[39m.\u001b[39marray([])\n\u001b[0;32m    944\u001b[0m \u001b[39m# Get synthesized waveform for each instrument\u001b[39;00m\n\u001b[1;32m--> 945\u001b[0m waveforms \u001b[39m=\u001b[39m [i\u001b[39m.\u001b[39mfluidsynth(fs\u001b[39m=\u001b[39mfs,\n\u001b[0;32m    946\u001b[0m                           sf2_path\u001b[39m=\u001b[39msf2_path) \u001b[39mfor\u001b[39;00m i \u001b[39min\u001b[39;00m \u001b[39mself\u001b[39m\u001b[39m.\u001b[39minstruments]\n\u001b[0;32m    947\u001b[0m \u001b[39m# Allocate output waveform, with #sample = max length of all waveforms\u001b[39;00m\n\u001b[0;32m    948\u001b[0m synthesized \u001b[39m=\u001b[39m np\u001b[39m.\u001b[39mzeros(np\u001b[39m.\u001b[39mmax([w\u001b[39m.\u001b[39mshape[\u001b[39m0\u001b[39m] \u001b[39mfor\u001b[39;00m w \u001b[39min\u001b[39;00m waveforms]))\n",
      "File \u001b[1;32md:\\The God Folder\\Programs\\Python\\lib\\site-packages\\pretty_midi\\pretty_midi.py:945\u001b[0m, in \u001b[0;36m<listcomp>\u001b[1;34m(.0)\u001b[0m\n\u001b[0;32m    943\u001b[0m     \u001b[39mreturn\u001b[39;00m np\u001b[39m.\u001b[39marray([])\n\u001b[0;32m    944\u001b[0m \u001b[39m# Get synthesized waveform for each instrument\u001b[39;00m\n\u001b[1;32m--> 945\u001b[0m waveforms \u001b[39m=\u001b[39m [i\u001b[39m.\u001b[39;49mfluidsynth(fs\u001b[39m=\u001b[39;49mfs,\n\u001b[0;32m    946\u001b[0m                           sf2_path\u001b[39m=\u001b[39;49msf2_path) \u001b[39mfor\u001b[39;00m i \u001b[39min\u001b[39;00m \u001b[39mself\u001b[39m\u001b[39m.\u001b[39minstruments]\n\u001b[0;32m    947\u001b[0m \u001b[39m# Allocate output waveform, with #sample = max length of all waveforms\u001b[39;00m\n\u001b[0;32m    948\u001b[0m synthesized \u001b[39m=\u001b[39m np\u001b[39m.\u001b[39mzeros(np\u001b[39m.\u001b[39mmax([w\u001b[39m.\u001b[39mshape[\u001b[39m0\u001b[39m] \u001b[39mfor\u001b[39;00m w \u001b[39min\u001b[39;00m waveforms]))\n",
      "File \u001b[1;32md:\\The God Folder\\Programs\\Python\\lib\\site-packages\\pretty_midi\\instrument.py:468\u001b[0m, in \u001b[0;36mInstrument.fluidsynth\u001b[1;34m(self, fs, sf2_path)\u001b[0m\n\u001b[0;32m    465\u001b[0m     \u001b[39mreturn\u001b[39;00m np\u001b[39m.\u001b[39marray([])\n\u001b[0;32m    467\u001b[0m \u001b[39m# Create fluidsynth instance\u001b[39;00m\n\u001b[1;32m--> 468\u001b[0m fl \u001b[39m=\u001b[39m fluidsynth\u001b[39m.\u001b[39;49mSynth(samplerate\u001b[39m=\u001b[39mfs)\n\u001b[0;32m    469\u001b[0m \u001b[39m# Load in the soundfont\u001b[39;00m\n\u001b[0;32m    470\u001b[0m sfid \u001b[39m=\u001b[39m fl\u001b[39m.\u001b[39msfload(sf2_path)\n",
      "\u001b[1;31mAttributeError\u001b[0m: module 'fluidsynth' has no attribute 'Synth'"
     ]
    }
   ],
   "source": [
    "display_audio(pm)"
   ]
  }
 ],
 "metadata": {
  "kernelspec": {
   "display_name": "Python 3",
   "language": "python",
   "name": "python3"
  },
  "language_info": {
   "codemirror_mode": {
    "name": "ipython",
    "version": 3
   },
   "file_extension": ".py",
   "mimetype": "text/x-python",
   "name": "python",
   "nbconvert_exporter": "python",
   "pygments_lexer": "ipython3",
   "version": "3.10.7"
  },
  "orig_nbformat": 4,
  "vscode": {
   "interpreter": {
    "hash": "fa1fa40bad0f0a7baef3d017bdcc2cb0f95c9cb2ddfd3dc15e3a0909f0e36ca3"
   }
  }
 },
 "nbformat": 4,
 "nbformat_minor": 2
}
